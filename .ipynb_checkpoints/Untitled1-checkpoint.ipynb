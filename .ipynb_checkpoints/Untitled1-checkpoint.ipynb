{
 "cells": [
  {
   "cell_type": "code",
   "execution_count": 1,
   "id": "4a15580c-21b6-492a-8556-cf305cf9b8f5",
   "metadata": {},
   "outputs": [
    {
     "ename": "SyntaxError",
     "evalue": "invalid syntax (60753596.py, line 3)",
     "output_type": "error",
     "traceback": [
      "\u001b[0;36m  File \u001b[0;32m\"/var/folders/hb/7kr4rl551slcwd0kdwhgg9040000gn/T/ipykernel_6414/60753596.py\"\u001b[0;36m, line \u001b[0;32m3\u001b[0m\n\u001b[0;31m    holder_id integer NOT NULL DEFAULT nextval('card_holder_holder_id_seq'::regclass),\u001b[0m\n\u001b[0m              ^\u001b[0m\n\u001b[0;31mSyntaxError\u001b[0m\u001b[0;31m:\u001b[0m invalid syntax\n"
     ]
    }
   ],
   "source": [
    "public.card_holder\n",
    "(\n",
    "    holder_id integer NOT NULL DEFAULT nextval('card_holder_holder_id_seq'::regclass),\n",
    "    holder_name character varying(255) COLLATE pg_catalog.\"default\",\n",
    "    CONSTRAINT card_holder_pkey PRIMARY KEY (holder_id)\n",
    ")\n",
    "\n",
    "TABLESPACE pg_default;"
   ]
  },
  {
   "cell_type": "code",
   "execution_count": 2,
   "id": "5a25b44c-d0c4-427f-9af8-245a002fc7dc",
   "metadata": {},
   "outputs": [
    {
     "ename": "SyntaxError",
     "evalue": "invalid syntax (2542926301.py, line 3)",
     "output_type": "error",
     "traceback": [
      "\u001b[0;36m  File \u001b[0;32m\"/var/folders/hb/7kr4rl551slcwd0kdwhgg9040000gn/T/ipykernel_6414/2542926301.py\"\u001b[0;36m, line \u001b[0;32m3\u001b[0m\n\u001b[0;31m    card VARCHAR(20)\u001b[0m\n\u001b[0m         ^\u001b[0m\n\u001b[0;31mSyntaxError\u001b[0m\u001b[0;31m:\u001b[0m invalid syntax\n"
     ]
    }
   ],
   "source": [
    "public.credit_card\n",
    "(\n",
    "    card VARCHAR(20)\n",
    "    cardholder_id INT NOT NULL\n",
    ")\n",
    "\n",
    "TABLESPACE pg_default;"
   ]
  },
  {
   "cell_type": "code",
   "execution_count": 3,
   "id": "79b2cf6a-1f1b-410b-823f-5d682c85bc0a",
   "metadata": {},
   "outputs": [
    {
     "ename": "SyntaxError",
     "evalue": "invalid syntax (4175710797.py, line 3)",
     "output_type": "error",
     "traceback": [
      "\u001b[0;36m  File \u001b[0;32m\"/var/folders/hb/7kr4rl551slcwd0kdwhgg9040000gn/T/ipykernel_6414/4175710797.py\"\u001b[0;36m, line \u001b[0;32m3\u001b[0m\n\u001b[0;31m    merchant_id INT\u001b[0m\n\u001b[0m                ^\u001b[0m\n\u001b[0;31mSyntaxError\u001b[0m\u001b[0;31m:\u001b[0m invalid syntax\n"
     ]
    }
   ],
   "source": [
    "public.merchant\n",
    "(\n",
    "    merchant_id INT\n",
    "    merchant_name VARCHAR(255)\n",
    "    merchant_category VARCHAR(255)\n",
    "    CONSTRAINT merchant_pkey PRIMARY KEY (merchant_id)\n",
    ")"
   ]
  },
  {
   "cell_type": "code",
   "execution_count": 4,
   "id": "fd018e7a-1c22-45ee-8de1-4dbabd6f42ac",
   "metadata": {},
   "outputs": [
    {
     "ename": "SyntaxError",
     "evalue": "invalid syntax (111842237.py, line 1)",
     "output_type": "error",
     "traceback": [
      "\u001b[0;36m  File \u001b[0;32m\"/var/folders/hb/7kr4rl551slcwd0kdwhgg9040000gn/T/ipykernel_6414/111842237.py\"\u001b[0;36m, line \u001b[0;32m1\u001b[0m\n\u001b[0;31m    category_id INT PK\u001b[0m\n\u001b[0m                ^\u001b[0m\n\u001b[0;31mSyntaxError\u001b[0m\u001b[0;31m:\u001b[0m invalid syntax\n"
     ]
    }
   ],
   "source": [
    "\n",
    "    category_id INT PK\n",
    "    category_name VARCHAR(255)\n",
    "    CONSTRAINT merchant_category_pkey PRIMARY KEY (category_id)"
   ]
  },
  {
   "cell_type": "code",
   "execution_count": null,
   "id": "c8319e52-3b09-4c3e-bd86-ef1d74e85c5a",
   "metadata": {},
   "outputs": [],
   "source": [
    "transaction_id INT\n",
    "    date TIMESTAMP\n",
    "    amount numeric,\n",
    "    card VARCHAR(20)\n",
    "    merchant_id INT,\n",
    "    CONSTRAINT transaction_pkey PRIMARY KEY (transaction_id),\n",
    "    CONSTRAINT transaction_merchant_id_fkey FOREIGN KEY (merchant_id)\n",
    "        REFERENCES public.merchant (merchant_id) MATCH SIMPLE\n",
    "    "
   ]
  }
 ],
 "metadata": {
  "kernelspec": {
   "display_name": "Python 3 (ipykernel)",
   "language": "python",
   "name": "python3"
  },
  "language_info": {
   "codemirror_mode": {
    "name": "ipython",
    "version": 3
   },
   "file_extension": ".py",
   "mimetype": "text/x-python",
   "name": "python",
   "nbconvert_exporter": "python",
   "pygments_lexer": "ipython3",
   "version": "3.9.13"
  }
 },
 "nbformat": 4,
 "nbformat_minor": 5
}
